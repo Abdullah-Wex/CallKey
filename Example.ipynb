{
 "cells": [
  {
   "cell_type": "code",
   "execution_count": 1,
   "metadata": {},
   "outputs": [],
   "source": [
    "from CallKey import CallKey"
   ]
  },
  {
   "cell_type": "code",
   "execution_count": 2,
   "metadata": {},
   "outputs": [],
   "source": [
    "data = {\n",
    "    \"Name\": \"Abdullah Alsharif\",\n",
    "    \"Email\": \"Alshreef15xm@Gmail.com\",\n",
    "    \"Social Accounts\": {\n",
    "        \"Twitter\":\"https://twitter.com/Abdullah_Wex\",\n",
    "        \"LinkedIn\":\"https://www.linkedin.com/in/abdullah-wex/\",\n",
    "        },\n",
    "    \"Projects\": [\n",
    "        {\n",
    "            \"Title\":\"LinkedIn Analytics\",\n",
    "            \"Language\":[\n",
    "                \"Python\",\n",
    "            ],\n",
    "            \"Tools&Techs\":[\n",
    "                \"Pandas\", \"EDA\", \"RE\", \"Web Scraping\",\n",
    "                \"Scikit-Learn\", \"Keras\", \"TensorFlow\",\n",
    "            ],\n",
    "        },\n",
    "        {\n",
    "            \"Title\":\"Used Cars Analysis and Prediction\",\n",
    "            \"Language\":[\n",
    "                \"Python\",\n",
    "                \"R\",\n",
    "            ],\n",
    "            \"Tools&Techs\":[\n",
    "                \"Pandas\", \"EDA\", \"RE\", \"Web Scraping\",\n",
    "                \"Scikit-Learn\", \"Keras\", \"TensorFlow\",\n",
    "                \"Django\", \"HerokuApp\"\n",
    "            ],\n",
    "        },\n",
    "        {\n",
    "            \"Title\":\"X (Twitter) Followers Analysis\",\n",
    "            \"Language\":[\n",
    "                \"Python\",\n",
    "            ],\n",
    "            \"Tools&Techs\":[\n",
    "                \"Pandas\", \"Twitter API\", \"Neo4j\"\n",
    "            ],\n",
    "        },\n",
    "    ]\n",
    "}"
   ]
  },
  {
   "cell_type": "code",
   "execution_count": 3,
   "metadata": {},
   "outputs": [],
   "source": [
    "CallKey_Var = CallKey(data)"
   ]
  },
  {
   "cell_type": "code",
   "execution_count": 4,
   "metadata": {},
   "outputs": [
    {
     "name": "stdout",
     "output_type": "stream",
     "text": [
      "Abdullah Alsharif\n",
      "True\n"
     ]
    }
   ],
   "source": [
    "print(CallKey_Var.inValue('Name'))\n",
    "print(CallKey_Var.inValue('Name').revers_Bool())"
   ]
  },
  {
   "cell_type": "code",
   "execution_count": 5,
   "metadata": {},
   "outputs": [
    {
     "name": "stdout",
     "output_type": "stream",
     "text": [
      "\n",
      "False\n"
     ]
    }
   ],
   "source": [
    "print(CallKey_Var.inValue('XYZ'))\n",
    "print(CallKey_Var.inValue('XYZ').revers_Bool())"
   ]
  },
  {
   "cell_type": "code",
   "execution_count": 6,
   "metadata": {},
   "outputs": [
    {
     "data": {
      "text/plain": [
       "Alshreef15xm@Gmail.com"
      ]
     },
     "execution_count": 6,
     "metadata": {},
     "output_type": "execute_result"
    }
   ],
   "source": [
    "CallKey_Var.inValue('Email')"
   ]
  },
  {
   "cell_type": "code",
   "execution_count": 7,
   "metadata": {},
   "outputs": [
    {
     "data": {
      "text/plain": [
       "'My Email is : Alshreef15xm@Gmail.com'"
      ]
     },
     "execution_count": 7,
     "metadata": {},
     "output_type": "execute_result"
    }
   ],
   "source": [
    "'My Email is : ' + CallKey_Var.inValue('Email').value"
   ]
  },
  {
   "cell_type": "code",
   "execution_count": 8,
   "metadata": {},
   "outputs": [
    {
     "data": {
      "text/plain": [
       "[{'Title': 'LinkedIn Analytics',\n",
       "  'Language': ['Python'],\n",
       "  'Tools&Techs': ['Pandas',\n",
       "   'EDA',\n",
       "   'RE',\n",
       "   'Web Scraping',\n",
       "   'Scikit-Learn',\n",
       "   'Keras',\n",
       "   'TensorFlow']},\n",
       " {'Title': 'Used Cars Analysis and Prediction',\n",
       "  'Language': ['Python', 'R'],\n",
       "  'Tools&Techs': ['Pandas',\n",
       "   'EDA',\n",
       "   'RE',\n",
       "   'Web Scraping',\n",
       "   'Scikit-Learn',\n",
       "   'Keras',\n",
       "   'TensorFlow',\n",
       "   'Django',\n",
       "   'HerokuApp']},\n",
       " {'Title': 'X (Twitter) Followers Analysis',\n",
       "  'Language': ['Python'],\n",
       "  'Tools&Techs': ['Pandas', 'Twitter API', 'Neo4j']}]"
      ]
     },
     "execution_count": 8,
     "metadata": {},
     "output_type": "execute_result"
    }
   ],
   "source": [
    "CallKey_Var.inValue('Projects').value"
   ]
  },
  {
   "cell_type": "code",
   "execution_count": 9,
   "metadata": {},
   "outputs": [
    {
     "data": {
      "text/plain": [
       "[{'Title': 'Used Cars Analysis and Prediction',\n",
       "  'Language': ['Python', 'R'],\n",
       "  'Tools&Techs': ['Pandas',\n",
       "   'EDA',\n",
       "   'RE',\n",
       "   'Web Scraping',\n",
       "   'Scikit-Learn',\n",
       "   'Keras',\n",
       "   'TensorFlow',\n",
       "   'Django',\n",
       "   'HerokuApp']}]"
      ]
     },
     "execution_count": 9,
     "metadata": {},
     "output_type": "execute_result"
    }
   ],
   "source": [
    "CallKey_Var.inValue('Projects').filter(lambda x: 'R' in x['Language']).value"
   ]
  },
  {
   "cell_type": "code",
   "execution_count": 10,
   "metadata": {},
   "outputs": [
    {
     "data": {
      "text/plain": [
       "[['Python', 'R']]"
      ]
     },
     "execution_count": 10,
     "metadata": {},
     "output_type": "execute_result"
    }
   ],
   "source": [
    "CallKey_Var.inValue('Projects').filter(lambda x: 'R' in x['Language']).map(lambda x: x['Language']).value"
   ]
  },
  {
   "cell_type": "code",
   "execution_count": 11,
   "metadata": {},
   "outputs": [
    {
     "data": {
      "text/plain": [
       "[LinkedIn Analytics, Used Cars Analysis and Prediction, X (Twitter) Followers Analysis]"
      ]
     },
     "execution_count": 11,
     "metadata": {},
     "output_type": "execute_result"
    }
   ],
   "source": [
    "CallKey_Var.inValue('Projects').eachInValue('Title')"
   ]
  },
  {
   "cell_type": "code",
   "execution_count": 12,
   "metadata": {},
   "outputs": [
    {
     "data": {
      "text/plain": [
       "[[LinkedIn Analytics, ['Python']],\n",
       " [Used Cars Analysis and Prediction, ['Python', 'R']],\n",
       " [X (Twitter) Followers Analysis, ['Python']]]"
      ]
     },
     "execution_count": 12,
     "metadata": {},
     "output_type": "execute_result"
    }
   ],
   "source": [
    "CallKey_Var.inValue('Projects').allInValue(['Title','Language']).value"
   ]
  },
  {
   "cell_type": "code",
   "execution_count": 13,
   "metadata": {},
   "outputs": [
    {
     "data": {
      "text/plain": [
       "0"
      ]
     },
     "execution_count": 13,
     "metadata": {},
     "output_type": "execute_result"
    }
   ],
   "source": [
    "CallKey_Var.inValue('Projects').find(lambda x: 'Python' in x['Language'],findAll=False,returnIndex=True)"
   ]
  },
  {
   "cell_type": "code",
   "execution_count": 14,
   "metadata": {},
   "outputs": [
    {
     "data": {
      "text/plain": [
       "{'Title': 'LinkedIn Analytics',\n",
       " 'Language': ['Python'],\n",
       " 'Tools&Techs': ['Pandas',\n",
       "  'EDA',\n",
       "  'RE',\n",
       "  'Web Scraping',\n",
       "  'Scikit-Learn',\n",
       "  'Keras',\n",
       "  'TensorFlow']}"
      ]
     },
     "execution_count": 14,
     "metadata": {},
     "output_type": "execute_result"
    }
   ],
   "source": [
    "CallKey_Var.inValue('Projects').find(lambda x: 'Python' in x['Language'],findAll=False,returnIndex=False)"
   ]
  },
  {
   "cell_type": "code",
   "execution_count": 15,
   "metadata": {},
   "outputs": [
    {
     "data": {
      "text/plain": [
       "[0, 1, 2]"
      ]
     },
     "execution_count": 15,
     "metadata": {},
     "output_type": "execute_result"
    }
   ],
   "source": [
    "CallKey_Var.inValue('Projects').find(lambda x: 'Python' in x['Language'],findAll=True,returnIndex=True)"
   ]
  },
  {
   "cell_type": "code",
   "execution_count": 16,
   "metadata": {},
   "outputs": [
    {
     "data": {
      "text/plain": [
       "[{'Title': 'LinkedIn Analytics',\n",
       "  'Language': ['Python'],\n",
       "  'Tools&Techs': ['Pandas',\n",
       "   'EDA',\n",
       "   'RE',\n",
       "   'Web Scraping',\n",
       "   'Scikit-Learn',\n",
       "   'Keras',\n",
       "   'TensorFlow']},\n",
       " {'Title': 'Used Cars Analysis and Prediction',\n",
       "  'Language': ['Python', 'R'],\n",
       "  'Tools&Techs': ['Pandas',\n",
       "   'EDA',\n",
       "   'RE',\n",
       "   'Web Scraping',\n",
       "   'Scikit-Learn',\n",
       "   'Keras',\n",
       "   'TensorFlow',\n",
       "   'Django',\n",
       "   'HerokuApp']},\n",
       " {'Title': 'X (Twitter) Followers Analysis',\n",
       "  'Language': ['Python'],\n",
       "  'Tools&Techs': ['Pandas', 'Twitter API', 'Neo4j']}]"
      ]
     },
     "execution_count": 16,
     "metadata": {},
     "output_type": "execute_result"
    }
   ],
   "source": [
    "CallKey_Var.inValue('Projects').find(lambda x: 'Python' in x['Language'],findAll=True,returnIndex=False)"
   ]
  },
  {
   "cell_type": "code",
   "execution_count": 17,
   "metadata": {},
   "outputs": [
    {
     "data": {
      "text/plain": [
       "['https://www.linkedin.com/in/abdullah-wex/']"
      ]
     },
     "execution_count": 17,
     "metadata": {},
     "output_type": "execute_result"
    }
   ],
   "source": [
    "CallKey_Var.inValue('Social Accounts').function(lambda x: x.values()).filter(lambda x: 'in' in x)"
   ]
  }
 ],
 "metadata": {
  "kernelspec": {
   "display_name": "Python 3",
   "language": "python",
   "name": "python3"
  },
  "language_info": {
   "codemirror_mode": {
    "name": "ipython",
    "version": 3
   },
   "file_extension": ".py",
   "mimetype": "text/x-python",
   "name": "python",
   "nbconvert_exporter": "python",
   "pygments_lexer": "ipython3",
   "version": "3.11.5"
  }
 },
 "nbformat": 4,
 "nbformat_minor": 2
}
